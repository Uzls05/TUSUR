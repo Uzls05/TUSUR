{
 "cells": [
  {
   "cell_type": "markdown",
   "id": "ca780f5b-845e-4155-aad1-dacf53092a4f",
   "metadata": {},
   "source": [
    "# Лабораторная работа № 7"
   ]
  },
  {
   "cell_type": "markdown",
   "id": "1b85cbf6-f874-4c81-af76-bc8eec9fef55",
   "metadata": {},
   "source": [
    "## Задание 1"
   ]
  },
  {
   "cell_type": "code",
   "execution_count": 1,
   "id": "ced2e8d9-890c-432c-8c0c-bddb335fd0ff",
   "metadata": {},
   "outputs": [
    {
     "name": "stdout",
     "output_type": "stream",
     "text": [
      "Текущее состояние: первое\n",
      "Текущее состояние: второе\n",
      "Текущее состояние: третье\n",
      "Текущее состояние: первое\n",
      "Текущее состояние: второе\n",
      "Текущее состояние: третье\n"
     ]
    }
   ],
   "source": [
    "class ThreeStates:\n",
    "    def __init__(self):\n",
    "        self.__state = 0  # приватный атрибут\n",
    "\n",
    "    def hasstate(self):\n",
    "        states = [\"первое\", \"второе\", \"третье\"]\n",
    "        if self.__state == 0:\n",
    "            print(\"Текущее состояние:\", states[0])\n",
    "            self.__state = 1\n",
    "        elif self.__state == 1:\n",
    "            print(\"Текущее состояние:\", states[1])\n",
    "            self.__state = 2\n",
    "        else:\n",
    "            print(\"Текущее состояние:\", states[2])\n",
    "            self.__state = 0\n",
    "\n",
    "# Создаем экземпляр класса\n",
    "ts = ThreeStates()\n",
    "\n",
    "# Вызываем метод hasstate несколько раз\n",
    "ts.hasstate()  # Текущее состояние: первое\n",
    "ts.hasstate()  # Текущее состояние: второе\n",
    "ts.hasstate()  # Текущее состояние: третье\n",
    "ts.hasstate()  # Текущее состояние: первое\n",
    "ts.hasstate()  # Текущее состояние: второе\n",
    "ts.hasstate()  # Текущее состояние: третье"
   ]
  },
  {
   "cell_type": "markdown",
   "id": "257ea957-98d1-4483-bea7-fc077976c89c",
   "metadata": {},
   "source": [
    "## Задание 2"
   ]
  },
  {
   "cell_type": "code",
   "execution_count": 2,
   "id": "f9239577-9779-4b72-be02-cc0b8cf4ff12",
   "metadata": {},
   "outputs": [
    {
     "name": "stdout",
     "output_type": "stream",
     "text": [
      "150\n"
     ]
    }
   ],
   "source": [
    "class Volume:\n",
    "    def __init__(self, length, width, height):\n",
    "        self._length = length  # защищенный атрибут\n",
    "        self._width = width  # защищенный атрибут\n",
    "        self._height = height  # защищенный атрибут\n",
    "\n",
    "    def calculate_volume(self):\n",
    "        return self._length * self._width * self._height\n",
    "\n",
    "# Создаем экземпляр класса\n",
    "v = Volume(10, 5, 3)\n",
    "\n",
    "# Проверяем работу метода\n",
    "print(v.calculate_volume())  # Вывод: 150"
   ]
  },
  {
   "cell_type": "markdown",
   "id": "7c8d255f-5bd9-4782-8358-f6d1d6c7117c",
   "metadata": {},
   "source": [
    "## Задание 3"
   ]
  },
  {
   "cell_type": "code",
   "execution_count": 3,
   "id": "bb206b2e-1f68-49ae-8eef-362789a8eb48",
   "metadata": {},
   "outputs": [
    {
     "name": "stdout",
     "output_type": "stream",
     "text": [
      "Иван Иванович Петров\n",
      "{'wage': 50000, 'bonus': 10000}\n",
      "Петр Петрович Сидоров\n",
      "{'wage': 60000, 'bonus': 15000}\n",
      "Иван Иванович Петров\n",
      "60000\n",
      "Петр Петрович Сидоров\n",
      "75000\n"
     ]
    }
   ],
   "source": [
    "class Employee:\n",
    "    def __init__(self, name, patronymic, surname, wage, bonus):\n",
    "        self.name = name\n",
    "        self.patronymic = patronymic\n",
    "        self.surname = surname\n",
    "        self._salary = {\"wage\": wage, \"bonus\": bonus}  # защищенный атрибут\n",
    "\n",
    "class Salary(Employee):\n",
    "    def get_full_name(self):\n",
    "        return f\"{self.name} {self.patronymic} {self.surname}\"\n",
    "\n",
    "    def get_total_income(self):\n",
    "        return self._salary[\"wage\"] + self._salary[\"bonus\"]\n",
    "\n",
    "# Создаем экземпляры класса Salary\n",
    "emp1 = Salary(\"Иван\", \"Иванович\", \"Петров\", 50000, 10000)\n",
    "emp2 = Salary(\"Петр\", \"Петрович\", \"Сидоров\", 60000, 15000)\n",
    "\n",
    "# Проверяем значения атрибутов\n",
    "print(emp1.name, emp1.patronymic, emp1.surname)  # Иван Иванович Петров\n",
    "print(emp1._salary)  # {'wage': 50000, 'bonus': 10000}\n",
    "\n",
    "print(emp2.name, emp2.patronymic, emp2.surname)  # Петр Петрович Сидоров\n",
    "print(emp2._salary)  # {'wage': 60000, 'bonus': 15000}\n",
    "\n",
    "# Вызываем методы экземпляров\n",
    "print(emp1.get_full_name())  # Иван Иванович Петров\n",
    "print(emp1.get_total_income())  # 60000\n",
    "\n",
    "print(emp2.get_full_name())  # Петр Петрович Сидоров\n",
    "print(emp2.get_total_income())  # 75000"
   ]
  },
  {
   "cell_type": "markdown",
   "id": "ee4227b8-4172-4415-87e1-32fa0106f783",
   "metadata": {},
   "source": [
    "## Задание 4"
   ]
  },
  {
   "cell_type": "code",
   "execution_count": 4,
   "id": "4d4729ff-2bff-499a-81eb-a642cf8263ae",
   "metadata": {},
   "outputs": [
    {
     "name": "stdout",
     "output_type": "stream",
     "text": [
      "Boeing\n",
      "silver\n",
      "False\n",
      "1000\n",
      "Самолет Boeing летит\n",
      "Самолет F-16 не летит\n",
      "Самолет Biplane повернул в право\n",
      "Текущая скорость военного самолета Su-34: 1000 км/ч\n",
      "Самолет F-16 летит со сверхзвуковой скоростью: 1500 км/ч\n"
     ]
    }
   ],
   "source": [
    "class Airplane:\n",
    "    def __init__(self, speed, color, name, is_jet):\n",
    "        self.speed = speed\n",
    "        self.color = color\n",
    "        self.name = name\n",
    "        self.is_jet = is_jet\n",
    "\n",
    "    def go(self):\n",
    "        print(f\"Самолет {self.name} летит\")\n",
    "\n",
    "    def stop(self):\n",
    "        print(f\"Самолет {self.name} не летит\")\n",
    "\n",
    "    def direction(self, direction):\n",
    "        print(f\"Самолет {self.name} повернул в {direction}\")\n",
    "\n",
    "    def show_speed(self):\n",
    "        print(f\"Текущая скорость самолета {self.name}: {self.speed} км/ч\")\n",
    "\n",
    "class FastAirplane(Airplane):\n",
    "    def show_speed(self):\n",
    "        if self.speed > 1300:\n",
    "            print(f\"Самолет {self.name} летит со сверхзвуковой скоростью: {self.speed} км/ч\")\n",
    "        else:\n",
    "            print(f\"Текущая скорость самолета {self.name}: {self.speed} км/ч\")\n",
    "\n",
    "class Biplane(Airplane):\n",
    "    def show_speed(self):\n",
    "        print(f\"Текущая скорость биплана {self.name}: {self.speed} км/ч\")\n",
    "\n",
    "class ArmyAirplane(Airplane):\n",
    "    def show_speed(self):\n",
    "        print(f\"Текущая скорость военного самолета {self.name}: {self.speed} км/ч\")\n",
    "\n",
    "# Создаем экземпляры классов\n",
    "airplane1 = Airplane(800, \"white\", \"Boeing\", False)\n",
    "airplane2 = FastAirplane(1500, \"silver\", \"F-16\", True)\n",
    "airplane3 = Biplane(200, \"red\", \"Biplane\", False)\n",
    "airplane4 = ArmyAirplane(1000, \"green\", \"Su-34\", True)\n",
    "\n",
    "# Доступ к атрибутам\n",
    "print(airplane1.name)  # Boeing\n",
    "print(airplane2.color)  # silver\n",
    "print(airplane3.is_jet)  # False\n",
    "print(airplane4.speed)  # 1000\n",
    "\n",
    "# Вызов методов\n",
    "airplane1.go()  # Самолет Boeing летит\n",
    "airplane2.stop()  # Самолет F-16 не летит\n",
    "airplane3.direction(\"право\")  # Самолет Biplane повернул в право\n",
    "airplane4.show_speed()  # Текущая скорость военного самолета Su-34: 1000 км/ч\n",
    "\n",
    "airplane2.show_speed()  # Самолет F-16 летит со сверхзвуковой скоростью: 1500 км/ч"
   ]
  },
  {
   "cell_type": "markdown",
   "id": "dd804fd5-8452-4b33-a93d-7c272fc264ff",
   "metadata": {},
   "source": [
    "## Задание 5"
   ]
  },
  {
   "cell_type": "code",
   "execution_count": 5,
   "id": "a83352c7-e7be-427d-a71e-a7a7231e1c1f",
   "metadata": {},
   "outputs": [
    {
     "name": "stdout",
     "output_type": "stream",
     "text": [
      "Запуск операции.\n",
      "Сумма: 8\n",
      "Запуск операции.\n",
      "Разность: 6\n",
      "Запуск операции.\n",
      "Произведение: 12\n"
     ]
    }
   ],
   "source": [
    "class MathOperations:\n",
    "    def __init__(self, first_num, second_num):\n",
    "        self.first_num = first_num\n",
    "        self.second_num = second_num\n",
    "\n",
    "    def calc(self):\n",
    "        print(\"Запуск операции.\")\n",
    "\n",
    "class my_sum(MathOperations):\n",
    "    def calc(self):\n",
    "        super().calc()\n",
    "        print(f\"Сумма: {self.first_num + self.second_num}\")\n",
    "\n",
    "class my_sub(MathOperations):\n",
    "    def calc(self):\n",
    "        super().calc()\n",
    "        print(f\"Разность: {self.first_num - self.second_num}\")\n",
    "\n",
    "class my_mult(MathOperations):\n",
    "    def calc(self):\n",
    "        super().calc()\n",
    "        print(f\"Произведение: {self.first_num * self.second_num}\")\n",
    "\n",
    "# Создаем экземпляры классов\n",
    "sum_operation = my_sum(5, 3)\n",
    "sub_operation = my_sub(10, 4)\n",
    "mult_operation = my_mult(2, 6)\n",
    "\n",
    "# Проверяем работу методов\n",
    "sum_operation.calc()\n",
    "# Запуск операции.\n",
    "# Сумма: 8\n",
    "\n",
    "sub_operation.calc()\n",
    "# Запуск операции.\n",
    "# Разность: 6\n",
    "\n",
    "mult_operation.calc()\n",
    "# Запуск операции.\n",
    "# Произведение: 12"
   ]
  },
  {
   "cell_type": "code",
   "execution_count": null,
   "id": "31665149-3989-4bdc-b375-2a48ed7b96fd",
   "metadata": {},
   "outputs": [],
   "source": []
  }
 ],
 "metadata": {
  "kernelspec": {
   "display_name": "Python 3 (ipykernel)",
   "language": "python",
   "name": "python3"
  },
  "language_info": {
   "codemirror_mode": {
    "name": "ipython",
    "version": 3
   },
   "file_extension": ".py",
   "mimetype": "text/x-python",
   "name": "python",
   "nbconvert_exporter": "python",
   "pygments_lexer": "ipython3",
   "version": "3.9.6"
  }
 },
 "nbformat": 4,
 "nbformat_minor": 5
}
