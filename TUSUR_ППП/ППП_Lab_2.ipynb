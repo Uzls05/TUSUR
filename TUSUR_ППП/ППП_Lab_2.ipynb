{
 "cells": [
  {
   "cell_type": "markdown",
   "id": "c3316c82-e0dc-4d05-b244-b7236f8ba8e4",
   "metadata": {
    "jp-MarkdownHeadingCollapsed": true
   },
   "source": [
    "# Заголовок 1\n",
    "Текст под заголовком Текст под заголовком Текст под заголовком Текст под заголовком Текст под заголовком\n",
    "Текст под заголовком Текст под заголовком Текст под заголовком Текст под заголовком Текст под заголовком Текст под заголовком"
   ]
  },
  {
   "cell_type": "markdown",
   "id": "a501cc3e-cb30-436b-bbc6-3117886f0488",
   "metadata": {},
   "source": [
    "# Заголовок 2\n",
    "ТекстТекстТекстТекстТекстТекст\n",
    "ТекстТекстТекстТекстТекстТекст\n",
    "ТекстТекстТекстТекстТекстТекст"
   ]
  },
  {
   "cell_type": "markdown",
   "id": "c8ab9e4d-8679-4576-aaaa-555fcd85fc98",
   "metadata": {},
   "source": [
    "## Заголовок 2.1\n",
    "Текст Текст Текст Текст Текст Текст Текст Текст Текст Текст Текст Текст Текст Текст Текст "
   ]
  },
  {
   "cell_type": "markdown",
   "id": "3ece9a0c-486b-4a55-a7ef-12e5bdc458de",
   "metadata": {},
   "source": [
    "## Заголовок 2.2\n",
    "**Маркированный список** \n",
    "- Текст 1\n",
    "    - Текст 1.1\n",
    "    - Текст 1.2\n",
    "    - Текст 1.3\n",
    "      \n",
    "\n",
    "**Нумерованный список**\n",
    "```\n",
    "    1. Текст\n",
    "        1. Текст 1\n",
    "        2. Текст 2\n",
    "        3. Текст 3\n",
    "```"
   ]
  },
  {
   "cell_type": "markdown",
   "id": "2539fbf3-e2a0-4eda-8bea-2975cdd60802",
   "metadata": {
    "jp-MarkdownHeadingCollapsed": true
   },
   "source": [
    "### Заголовок 2.2.1\n",
    "<img src=\"pythonlogo.png\" />"
   ]
  },
  {
   "cell_type": "markdown",
   "id": "e2a8b7ef-2a6b-4732-9df4-9afa340befa5",
   "metadata": {},
   "source": [
    "### Заголовок 2.2.2\n",
    "[Гиперссылка](https://tusur.ru)"
   ]
  },
  {
   "cell_type": "markdown",
   "id": "69234a7f-ce33-4bd1-b276-7b58dafe5104",
   "metadata": {
    "jp-MarkdownHeadingCollapsed": true
   },
   "source": [
    "# Таблица\n",
    "\n",
    "|Задание 2|Задание 3|Задание 4|\n",
    "|---------|---------|---------|\n",
    "|$ \\frac{1\\frac{4}{11} * 0,22 : 0,3 - 0,96}{(0,2 - \\frac{3}{40})1,6}$ |$ \\mid \\lg{(1 + \\sin{\\alpha}) + \\ln{(1 - \\sin{\\beta})}} \\mid $|$ y = x^3 \\sqrt[3]{(1 - x)^2} - 1 $|"
   ]
  },
  {
   "cell_type": "markdown",
   "id": "be174421-f5be-493a-86f3-ca6de231906a",
   "metadata": {},
   "source": [
    "# Задание 2"
   ]
  },
  {
   "cell_type": "code",
   "execution_count": 25,
   "id": "9c7b5557-8263-4113-aa76-192cfb12f4d8",
   "metadata": {},
   "outputs": [
    {
     "name": "stdout",
     "output_type": "stream",
     "text": [
      "Без форматирования. Ответ: 0.5000000000000003\n",
      "C форматированием.  Ответ: 0.50\n"
     ]
    }
   ],
   "source": [
    "x = (15/11 * (0.22 / 0.30) - 0.96)\n",
    "y = (0.2 - (3/40) * 1.6)\n",
    "answer = (x/y)\n",
    "print(f'Без форматирования. Ответ: {answer}')\n",
    "print(f'C форматированием.  Ответ: {answer:.2f}')"
   ]
  },
  {
   "cell_type": "markdown",
   "id": "370fdee5-7686-4902-a2a4-ca0a9055da8a",
   "metadata": {},
   "source": [
    "# Задание 3\n",
    "## Параметры заданы в коде"
   ]
  },
  {
   "cell_type": "code",
   "execution_count": 56,
   "id": "ce66b2f7-0288-402e-a92f-2288bc923710",
   "metadata": {},
   "outputs": [
    {
     "name": "stdout",
     "output_type": "stream",
     "text": [
      "Ответ: 0.5341546548268213\n"
     ]
    }
   ],
   "source": [
    "import math\n",
    "\n",
    "a = (3*math.pi)/7\n",
    "\n",
    "b = 83\n",
    "b_rad = (b*180)/math.pi\n",
    "\n",
    "x = abs(math.log10(1+math.sin(a))+math.log10(1 - math.sin(b_rad)))\n",
    "print(f'Ответ: {x}')\n"
   ]
  },
  {
   "cell_type": "markdown",
   "id": "23c951f1-4a06-4916-bc8f-e409e28f44ce",
   "metadata": {},
   "source": [
    "## Параметры вводятся с клавиатуры"
   ]
  },
  {
   "cell_type": "code",
   "execution_count": 71,
   "id": "39076630-e78e-4e46-ae89-b370df867eaa",
   "metadata": {},
   "outputs": [
    {
     "name": "stdin",
     "output_type": "stream",
     "text": [
      "Введите значение A в градусах \n",
      " 90\n",
      "Введите значение B в градусах \n",
      " 45\n"
     ]
    },
    {
     "name": "stdout",
     "output_type": "stream",
     "text": [
      "Ответ: 2.050473889035292\n"
     ]
    }
   ],
   "source": [
    "import math\n",
    "\n",
    "a = int(input('Введите значение A в градусах \\n'))\n",
    "b = int(input('Введите значение B в градусах \\n'))\n",
    "\n",
    "a_rad = ((a*180)/math.pi)\n",
    "b_rad = ((b*180)/math.pi)\n",
    "\n",
    "x = abs(math.log10(1+math.sin(a_rad))+math.log10(1 - math.sin(b_rad)))\n",
    "print(f'Ответ: {x}')"
   ]
  },
  {
   "cell_type": "markdown",
   "id": "4c3fea42-b505-4b65-a5dc-936eac480479",
   "metadata": {},
   "source": [
    "# Задание 4"
   ]
  },
  {
   "cell_type": "code",
   "execution_count": 19,
   "id": "d06edad4-8544-49bf-a4d6-e62e8209e6dd",
   "metadata": {},
   "outputs": [
    {
     "name": "stdout",
     "output_type": "stream",
     "text": [
      "2140.9793378984737\n"
     ]
    }
   ],
   "source": [
    "import math\n",
    "x = 8.29\n",
    "def func(x):\n",
    "    # y = ((math.pow(x,3))*(math.pow((math.pow((1-x),2),1/3))-1)\n",
    "    x = (math.pow(x, 3) * (math.pow(1 - x, 2) ** (1/3)) - 1)\n",
    "    return x\n",
    "    \n",
    "print(func(x))"
   ]
  },
  {
   "cell_type": "code",
   "execution_count": 10,
   "id": "56bf341b-cc2d-48a7-a4f1-194908b90113",
   "metadata": {},
   "outputs": [
    {
     "name": "stdout",
     "output_type": "stream",
     "text": [
      "2140.9793378984737\n"
     ]
    }
   ],
   "source": [
    "import math\n",
    "\n",
    "result = (lambda x: math.pow(x, 3) * (math.pow(1 - x, 2) ** (1/3)) - 1)(8.29)\n",
    "print(result)"
   ]
  },
  {
   "cell_type": "code",
   "execution_count": 18,
   "id": "1a6e3ea1-de81-4eea-954f-6b75f6d1b3f1",
   "metadata": {},
   "outputs": [
    {
     "data": {
      "image/png": "[encoded data removed]",
      "text/plain": [
       "<Figure size 640x480 with 1 Axes>"
      ]
     },
     "metadata": {},
     "output_type": "display_data"
    }
   ],
   "source": [
    "import matplotlib.pyplot as plt\n",
    "import numpy as np\n",
    "\n",
    "x = np.arange(0, 8.29, 0.1)\n",
    "y = (x**3 * (1 - x)**2)**(1/3) - 1\n",
    "\n",
    "plt.plot(x, y)\n",
    "plt.xlabel('x')\n",
    "plt.ylabel('y')\n",
    "plt.title('График функции y = (x^3 * (1 - x)^2)^(1/3) - 1')\n",
    "plt.grid(True)\n",
    "plt.show()"
   ]
  },
  {
   "cell_type": "markdown",
   "id": "ace63e05-2f90-4fc3-87c4-a064cadeb2cc",
   "metadata": {},
   "source": [
    "# Задание 5"
   ]
  },
  {
   "cell_type": "code",
   "execution_count": 20,
   "id": "34f59335-5e57-4445-97f3-769a3d837659",
   "metadata": {},
   "outputs": [
    {
     "name": "stdin",
     "output_type": "stream",
     "text": [
      "Введите значение X \n",
      " 8.29\n"
     ]
    },
    {
     "name": "stdout",
     "output_type": "stream",
     "text": [
      " Ответ: 30.167804858826436\n"
     ]
    }
   ],
   "source": [
    "import math\n",
    "x = float(input('Введите значение X \\n'))\n",
    "# x = 8.29\n",
    "def func(x):\n",
    "    x = ((x**3 * (1 - x)**2)**(1/3)) - 1\n",
    "    return x\n",
    "    \n",
    "print(f' Ответ: {func(x)}')"
   ]
  },
  {
   "cell_type": "code",
   "execution_count": 29,
   "id": "3c592503-14b8-489c-a09e-d57b2d8af20f",
   "metadata": {},
   "outputs": [
    {
     "name": "stdin",
     "output_type": "stream",
     "text": [
      "Введите элементы массива x через пробел:  1 2 4 8 16 32 64\n"
     ]
    },
    {
     "data": {
      "image/png": "[encoded data removed]",
      "text/plain": [
       "<Figure size 640x480 with 1 Axes>"
      ]
     },
     "metadata": {},
     "output_type": "display_data"
    }
   ],
   "source": [
    "import matplotlib.pyplot as plt\n",
    "import numpy as np\n",
    "import math\n",
    "\n",
    "x = list(map(float, input(\"Введите элементы массива x через пробел: \").split()))\n",
    "\n",
    "x = np.array(x)\n",
    "y = (x**3 * (1 - x)**2)**(1/3) - 1\n",
    "\n",
    "plt.plot(x, y)\n",
    "plt.xlabel('x')\n",
    "plt.ylabel('y')\n",
    "plt.title('График функции y = (x^3 * (1 - x)^2)^(1/3) - 1')\n",
    "plt.grid(True)\n",
    "plt.show()"
   ]
  },
  {
   "cell_type": "markdown",
   "id": "ddeb508b-2839-4d5d-b952-d76940a29166",
   "metadata": {},
   "source": [
    "# Задание 6"
   ]
  },
  {
   "cell_type": "code",
   "execution_count": 40,
   "id": "83b3418d-58fb-4bcf-8958-b30eaba42414",
   "metadata": {},
   "outputs": [
    {
     "name": "stdin",
     "output_type": "stream",
     "text": [
      "Напишите Ваше имя:  Семен\n",
      "Сколько Вам лет?  22\n",
      "Где Вы учитесь?  ТУСУР\n"
     ]
    },
    {
     "name": "stdout",
     "output_type": "stream",
     "text": [
      "Вас зовут Семен. Вам 22 лет и Вы учитесь в ТУСУР.\n"
     ]
    }
   ],
   "source": [
    "name = input(\"Напишите Ваше имя: \")\n",
    "\n",
    "age = input(\"Сколько Вам лет? \")\n",
    "\n",
    "study_place = input(\"Где Вы учитесь? \")\n",
    "\n",
    "print(f\"Вас зовут {name}. Вам {age} лет и Вы учитесь в {study_place}.\")"
   ]
  },
  {
   "cell_type": "markdown",
   "id": "a6c52836-8262-450d-9fa1-25da87e097b2",
   "metadata": {},
   "source": [
    "# Задание 7"
   ]
  },
  {
   "cell_type": "code",
   "execution_count": 32,
   "id": "f560000f-54d7-4e32-8147-f0441834858e",
   "metadata": {},
   "outputs": [
    {
     "name": "stdout",
     "output_type": "stream",
     "text": [
      "Конкатенация строк:\n",
      "программировать учёба\n",
      "\n",
      "Повторение строки:\n",
      "ЪЪЪЪЪЪЪЪЪ\n",
      "\n",
      "Обращение по индексу:\n",
      "п\n",
      "ь\n",
      "\n",
      "Извлечение среза:\n",
      "лю пр\n",
      "лю программировать\n",
      "я люб\n",
      "\n",
      "Определение длины строки:\n",
      "15\n",
      "\n",
      "Подсчёт количества вхождений подстроки:\n",
      "1\n",
      "\n",
      "Поиск подстроки в строке:\n",
      "8\n",
      "\n",
      "Разбиение строки по разделителю:\n",
      "['я', 'люблю', 'программировать']\n",
      "\n",
      "Преобразование строки к верхнему или нижнему регистру:\n",
      "ПРОГРАММИРОВАТЬ\n",
      "программировать\n"
     ]
    }
   ],
   "source": [
    "str1 = \"программировать\"\n",
    "str2 = \"учёба\"\n",
    "str3 = \"я люблю программировать\"\n",
    "str4 = \"ЪЪЪ\"\n",
    "\n",
    "# Конкатенация строк\n",
    "print(\"Конкатенация строк:\")\n",
    "print(str1 + \" \" + str2)\n",
    "\n",
    "# Повторение строки\n",
    "print(\"\\nПовторение строки:\")\n",
    "print(str4 * 3)\n",
    "\n",
    "# Обращение по индексу\n",
    "print(\"\\nОбращение по индексу:\")\n",
    "print(str1[0])\n",
    "print(str1[-1])\n",
    "\n",
    "# Извлечение среза\n",
    "print(\"\\nИзвлечение среза:\")\n",
    "print(str3[5:10])\n",
    "print(str3[5:])\n",
    "print(str3[:5])\n",
    "\n",
    "# Определение длины строки\n",
    "print(\"\\nОпределение длины строки:\")\n",
    "print(len(str1))\n",
    "\n",
    "# Подсчёт количества вхождений подстроки\n",
    "print(\"\\nПодсчёт количества вхождений подстроки:\")\n",
    "print(str3.count(\"люблю\", 0, len(str3)))\n",
    "\n",
    "# Поиск подстроки в строке\n",
    "print(\"\\nПоиск подстроки в строке:\")\n",
    "print(str3.find(\"программировать\", 0, len(str3)))\n",
    "\n",
    "# Разбиение строки по разделителю\n",
    "print(\"\\nРазбиение строки по разделителю:\")\n",
    "print(str3.split(\" \"))\n",
    "\n",
    "# Преобразование строки к верхнему или нижнему регистру\n",
    "print(\"\\nПреобразование строки к верхнему или нижнему регистру:\")\n",
    "print(str1.upper())\n",
    "print(str1.lower())"
   ]
  },
  {
   "cell_type": "markdown",
   "id": "79503968-6e2e-464d-acbc-e8a453b388ff",
   "metadata": {},
   "source": [
    "# Задание 8"
   ]
  },
  {
   "cell_type": "code",
   "execution_count": 37,
   "id": "927f5aa0-af68-4118-93a8-bc75b5ca76ac",
   "metadata": {},
   "outputs": [
    {
     "name": "stdin",
     "output_type": "stream",
     "text": [
      "Введите строку символов:  ыдвлра(дышврп\n"
     ]
    },
    {
     "name": "stdout",
     "output_type": "stream",
     "text": [
      "В строке нет скобок или они не парные\n"
     ]
    }
   ],
   "source": [
    "s = input(\"Введите строку символов: \")\n",
    "\n",
    "open_bracket = s.find(\"(\")\n",
    "close_bracket = s.find(\")\")\n",
    "\n",
    "if open_bracket != -1 and close_bracket != -1:\n",
    "    print(\"Символы внутри скобок:\", s[open_bracket + 1:close_bracket])\n",
    "else:\n",
    "    print(\"В строке нет скобок или они не парные\")"
   ]
  },
  {
   "cell_type": "markdown",
   "id": "59bec680-fa75-460c-8489-f7065bfb44bf",
   "metadata": {},
   "source": [
    "# Задание 9"
   ]
  },
  {
   "cell_type": "code",
   "execution_count": 39,
   "id": "2d679bd8-1726-4843-b8e6-2ddaf16be8cd",
   "metadata": {},
   "outputs": [
    {
     "name": "stdout",
     "output_type": "stream",
     "text": [
      "[[6 0 6 0 8]\n",
      " [0 7 0 2 0]\n",
      " [2 0 3 0 3]\n",
      " [0 1 0 2 0]\n",
      " [4 0 3 0 2]]\n"
     ]
    }
   ],
   "source": [
    "import numpy as np\n",
    "\n",
    "def fill_matrix(m, low, high):\n",
    "    matrix = np.zeros((m, m), dtype=int)\n",
    "    for i in range(m):\n",
    "        for j in range(m):\n",
    "            if (i + j) % 2 == 0:\n",
    "                matrix[i, j] = np.random.randint(low, high)\n",
    "            else:\n",
    "                matrix[i, j] = 0\n",
    "    return matrix\n",
    "\n",
    "m = 5\n",
    "low = 1\n",
    "high = 10\n",
    "matrix = fill_matrix(m, low, high)\n",
    "print(matrix)"
   ]
  },
  {
   "cell_type": "markdown",
   "id": "79630460-2677-4d62-b1b4-cfbcf3a461d0",
   "metadata": {},
   "source": []
  },
  {
   "cell_type": "code",
   "execution_count": null,
   "id": "8663810b-8106-4577-b2de-5f04241da81c",
   "metadata": {},
   "outputs": [],
   "source": []
  }
 ],
 "metadata": {
  "kernelspec": {
   "display_name": "Python 3 (ipykernel)",
   "language": "python",
   "name": "python3"
  },
  "language_info": {
   "codemirror_mode": {
    "name": "ipython",
    "version": 3
   },
   "file_extension": ".py",
   "mimetype": "text/x-python",
   "name": "python",
   "nbconvert_exporter": "python",
   "pygments_lexer": "ipython3",
   "version": "3.9.6"
  }
 },
 "nbformat": 4,
 "nbformat_minor": 5
}
