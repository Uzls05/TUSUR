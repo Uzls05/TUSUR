{
 "cells": [
  {
   "cell_type": "markdown",
   "id": "1817c171-42fe-4757-bc56-2b8b83e4a8d1",
   "metadata": {},
   "source": [
    "# Лабораторная работа 6."
   ]
  },
  {
   "cell_type": "markdown",
   "id": "9c5e52c3-cddf-4f41-b3b3-73279bac3cd1",
   "metadata": {},
   "source": [
    "## Задание 1"
   ]
  },
  {
   "cell_type": "code",
   "execution_count": 13,
   "id": "c3c664e2-11ad-42c4-9aea-8307302ae0fe",
   "metadata": {},
   "outputs": [
    {
     "name": "stdout",
     "output_type": "stream",
     "text": [
      "[[6 8 4 7 9 9]\n",
      " [1 4 9 3 6 7]\n",
      " [8 1 1 2 0 3]]\n",
      "\n",
      "[[6 8 4]\n",
      " [1 4 9]\n",
      " [8 1 1]\n",
      " [7 9 9]\n",
      " [3 6 7]\n",
      " [2 0 3]]\n",
      "\n"
     ]
    }
   ],
   "source": [
    "import numpy as np\n",
    "\n",
    "a1 = np.random.randint(0, 10, size=(3, 3))\n",
    "a2 = np.random.randint(0, 10, size=(3, 3))\n",
    "\n",
    "h1 = np.hstack((a1, a2))\n",
    "print(h1, end = \"\\n\\n\")\n",
    "\n",
    "v1 = np.vstack((a1, a2))\n",
    "print(v1, end = \"\\n\\n\")"
   ]
  },
  {
   "cell_type": "markdown",
   "id": "92944d72-5bf7-45e8-b2b9-c062210b2725",
   "metadata": {},
   "source": [
    "## Задание 2"
   ]
  },
  {
   "cell_type": "code",
   "execution_count": 16,
   "id": "8e6ce3d3-c749-45f9-a42c-5c802cc98ff2",
   "metadata": {},
   "outputs": [
    {
     "name": "stdout",
     "output_type": "stream",
     "text": [
      "[[4 6 8 2 3]\n",
      " [0 0 6 0 6]\n",
      " [3 3 8 8 8]\n",
      " [2 3 2 0 8]\n",
      " [8 3 8 2 8]]\n",
      "\n",
      "[[3 3 8 8]\n",
      " [2 3 2 0]\n",
      " [8 3 8 2]]\n"
     ]
    }
   ],
   "source": [
    "import numpy as np\n",
    "\n",
    "# Generate a 5x5 matrix using np.random.rand\n",
    "a = np.random.randint(0, 10, size=(5, 5))\n",
    "\n",
    "print(a,end = '\\n\\n')\n",
    "\n",
    "# Remove the first two rows\n",
    "a = np.delete(a, [0, 1], axis=0)\n",
    "\n",
    "# Remove the last column\n",
    "a = np.delete(a, -1, axis=1)\n",
    "\n",
    "print(a)"
   ]
  },
  {
   "cell_type": "markdown",
   "id": "0de7f8bb-be65-4710-a89d-5757ac13331b",
   "metadata": {},
   "source": [
    "## Задание 3"
   ]
  },
  {
   "cell_type": "code",
   "execution_count": 17,
   "id": "5616982d-d455-4abb-bb7c-13b191317b74",
   "metadata": {},
   "outputs": [
    {
     "name": "stdout",
     "output_type": "stream",
     "text": [
      "[1 5 9]\n",
      "[3 5 7]\n",
      "[2 6]\n",
      "[4 8]\n"
     ]
    }
   ],
   "source": [
    "a = np.array([[1, 2, 3], [4, 5, 6], [7, 8, 9]])\n",
    "main_diagonal = a.diagonal()\n",
    "print(main_diagonal)  # [1, 5, 9]\n",
    "\n",
    "a = np.array([[1, 2, 3], [4, 5, 6], [7, 8, 9]])\n",
    "side_diagonal = np.fliplr(a).diagonal()\n",
    "print(side_diagonal)  # [3, 5, 7]\n",
    "\n",
    "a = np.array([[1, 2, 3], [4, 5, 6], [7, 8, 9]])\n",
    "plus_one_diagonal = a.diagonal(offset=1)\n",
    "print(plus_one_diagonal)  # [2, 6]\n",
    "\n",
    "a = np.array([[1, 2, 3], [4, 5, 6], [7, 8, 9]])\n",
    "minus_one_diagonal = a.diagonal(offset=-1)\n",
    "print(minus_one_diagonal)  # [4, 8]"
   ]
  },
  {
   "cell_type": "markdown",
   "id": "487b1023-66d2-4171-be99-650bf282dc33",
   "metadata": {},
   "source": [
    "## Задание 4"
   ]
  },
  {
   "cell_type": "code",
   "execution_count": 19,
   "id": "a51e6adc-8d8a-40e1-beb8-6da133d9d71d",
   "metadata": {},
   "outputs": [
    {
     "name": "stdout",
     "output_type": "stream",
     "text": [
      "[[1 0 1 0 1 0 1 0]\n",
      " [0 1 0 1 0 1 0 1]\n",
      " [1 0 1 0 1 0 1 0]\n",
      " [0 1 0 1 0 1 0 1]\n",
      " [1 0 1 0 1 0 1 0]\n",
      " [0 1 0 1 0 1 0 1]\n",
      " [1 0 1 0 1 0 1 0]\n",
      " [0 1 0 1 0 1 0 1]]\n"
     ]
    }
   ],
   "source": [
    "import numpy as np\n",
    "\n",
    "n = 8\n",
    "matrix = np.zeros((n, n), dtype=int)\n",
    "\n",
    "for i in range(n):\n",
    "    for j in range(n):\n",
    "        if (i + j) % 2 == 0:\n",
    "            matrix[i, j] = 1\n",
    "        else:\n",
    "            matrix[i, j] = 0\n",
    "\n",
    "print(matrix)"
   ]
  },
  {
   "cell_type": "markdown",
   "id": "f1e63f26-e19c-457c-8e26-a24705303101",
   "metadata": {},
   "source": [
    "## Задание 5"
   ]
  },
  {
   "cell_type": "code",
   "execution_count": 22,
   "id": "33bae1c3-bab7-4d18-b9b0-a92108ed25fe",
   "metadata": {},
   "outputs": [
    {
     "name": "stdout",
     "output_type": "stream",
     "text": [
      "[[8 0 0]\n",
      " [0 9 0]\n",
      " [0 0 1]]\n"
     ]
    }
   ],
   "source": [
    "import numpy as np\n",
    "\n",
    "# Создаем матрицу 3-го порядка, заполненную случайными числами\n",
    "A = np.random.randint(0, 10, size = (3,3))\n",
    "\n",
    "# Создаем диагональную матрицу\n",
    "D = np.diag(A.diagonal())\n",
    "\n",
    "print(D)"
   ]
  },
  {
   "cell_type": "code",
   "execution_count": 25,
   "id": "36da74cc-117b-42e8-88b7-82237caf12d4",
   "metadata": {},
   "outputs": [
    {
     "name": "stdout",
     "output_type": "stream",
     "text": [
      "[[6 0 0]\n",
      " [0 7 0]\n",
      " [0 0 8]]\n"
     ]
    }
   ],
   "source": [
    "import numpy as np\n",
    "\n",
    "# Создаем матрицу 3-го порядка, заполненную случайными числами\n",
    "A = np.random.randint(0, 10, size = (3,3))\n",
    "\n",
    "# Создаем побочную диагональ\n",
    "side_diagonal = np.fliplr(A).diagonal()\n",
    "\n",
    "# Создаем диагональную матрицу\n",
    "D = np.diag(side_diagonal)\n",
    "\n",
    "print(D)"
   ]
  },
  {
   "cell_type": "code",
   "execution_count": 31,
   "id": "d52cb80f-62fa-4890-9f89-5b268f0e4ef0",
   "metadata": {},
   "outputs": [
    {
     "name": "stdout",
     "output_type": "stream",
     "text": [
      "[[1 0 0 ... 0 0 0]\n",
      " [0 3 0 ... 0 0 0]\n",
      " [0 0 3 ... 0 0 0]\n",
      " ...\n",
      " [0 0 0 ... 4 0 0]\n",
      " [0 0 0 ... 0 4 0]\n",
      " [0 0 0 ... 0 0 4]]\n"
     ]
    }
   ],
   "source": [
    "import numpy as np\n",
    "\n",
    "# Создаем матрицу 3-го порядка, заполненную случайными числами\n",
    "A = np.random.randint(0, 10, size = (9,9))\n",
    "\n",
    "# Создаем плоский список из элементов матрицы\n",
    "flat_list = A.flatten()\n",
    "\n",
    "# Создаем диагональную матрицу\n",
    "D = np.diag(flat_list)\n",
    "\n",
    "print(D)"
   ]
  },
  {
   "cell_type": "code",
   "execution_count": 30,
   "id": "b66f484e-6842-4da0-9dd0-cd12b5c98852",
   "metadata": {},
   "outputs": [
    {
     "name": "stdout",
     "output_type": "stream",
     "text": [
      "[[0. 0. 0. 0. 0. 0. 0. 0. 0.]\n",
      " [0. 0. 0. 0. 0. 0. 0. 3. 0.]\n",
      " [0. 0. 0. 0. 0. 0. 8. 0. 0.]\n",
      " [0. 0. 0. 0. 0. 8. 0. 0. 0.]\n",
      " [0. 0. 0. 0. 4. 0. 0. 0. 0.]\n",
      " [0. 0. 0. 4. 0. 0. 0. 0. 0.]\n",
      " [0. 0. 0. 0. 0. 0. 0. 0. 0.]\n",
      " [0. 9. 0. 0. 0. 0. 0. 0. 0.]\n",
      " [3. 0. 0. 0. 0. 0. 0. 0. 0.]]\n"
     ]
    }
   ],
   "source": [
    "import numpy as np\n",
    "\n",
    "# Создаем матрицу 3-го порядка, заполненную случайными числами\n",
    "A = np.random.randint(0, 10, size = (9,9))\n",
    "\n",
    "# Создаем плоский список из элементов матрицы\n",
    "flat_list = A.flatten()\n",
    "\n",
    "# Создаем матрицу 9-го порядка\n",
    "D = np.zeros((9, 9))\n",
    "\n",
    "# Заполняем побочную диагональ\n",
    "for i in range(9):\n",
    "    D[i, 8-i] = flat_list[i]\n",
    "\n",
    "print(D)"
   ]
  },
  {
   "cell_type": "markdown",
   "id": "e19b1547-a20b-4e26-a7de-23b83f74d952",
   "metadata": {},
   "source": [
    "## Задание 6"
   ]
  },
  {
   "cell_type": "code",
   "execution_count": 33,
   "id": "67acc9e3-cf91-44be-88c4-40580d3a6e3d",
   "metadata": {},
   "outputs": [
    {
     "name": "stdout",
     "output_type": "stream",
     "text": [
      "[-0.08899579 14.88424534 -0.14191221]\n"
     ]
    }
   ],
   "source": [
    "# 54x - 2y + 3z = -35\n",
    "# 4x + 2y + 17z = 27\n",
    "# 3x + 2y + 74z = 19\n",
    "\n",
    "import numpy as np\n",
    "\n",
    "A = np.array([[54, -2, 3], [4, 2, 17], [3, 2, 74]])\n",
    "b = np.array([-35, 27, 19])\n",
    "\n",
    "x = np.linalg.solve(A, b)\n",
    "\n",
    "print(x)"
   ]
  },
  {
   "cell_type": "markdown",
   "id": "d21cd9ae-a3c9-401c-a112-0d2d2d0c3001",
   "metadata": {},
   "source": [
    "## Задание 7"
   ]
  },
  {
   "cell_type": "code",
   "execution_count": 34,
   "id": "385fa911-02df-435d-a5ff-90cd43be5eb4",
   "metadata": {},
   "outputs": [
    {
     "name": "stdout",
     "output_type": "stream",
     "text": [
      "[-0.08899579 14.88424534 -0.14191221]\n"
     ]
    }
   ],
   "source": [
    "import numpy as np\n",
    "\n",
    "A = np.array([[54, -2, 3], [4, 2, 17], [3, 2, 74]])\n",
    "b = np.array([-35, 27, 19])\n",
    "\n",
    "A_inv = np.linalg.inv(A)\n",
    "x = np.dot(A_inv, b)\n",
    "\n",
    "print(x)"
   ]
  },
  {
   "cell_type": "markdown",
   "id": "c642ee64-5f29-4efd-824c-3b6d135aff2d",
   "metadata": {},
   "source": [
    "## Задание 8"
   ]
  },
  {
   "cell_type": "markdown",
   "id": "8718bcfe-e944-4e30-810a-132a25d19df2",
   "metadata": {},
   "source": [
    "Функция np.linalg.solve(a, b) и матричный метод дают один и тот же результат, что подтверждает корректность реализации этих методов в библиотеке NumPy."
   ]
  },
  {
   "cell_type": "markdown",
   "id": "d81db511-fae6-46e5-9c9c-f65b9bcbef2a",
   "metadata": {},
   "source": [
    "Оба метода могут быть использованы для решения СЛАУ, но функция np.linalg.solve(a, b) является более простой и эффективной, так как она автоматически выбирает оптимальный алгоритм для решения системы."
   ]
  },
  {
   "cell_type": "markdown",
   "id": "2677adce-f2cf-4223-bbe3-06eaa91a16f9",
   "metadata": {},
   "source": [
    "## Задание 9"
   ]
  },
  {
   "cell_type": "code",
   "execution_count": 45,
   "id": "ec6a1dcf-5803-4283-8d4e-1edbace26dfc",
   "metadata": {
    "scrolled": true
   },
   "outputs": [
    {
     "name": "stdout",
     "output_type": "stream",
     "text": [
      "Корень уравнения: [-0.5339629]\n"
     ]
    },
    {
     "name": "stderr",
     "output_type": "stream",
     "text": [
      "C:\\Users\\s-pod\\AppData\\Local\\Temp\\ipykernel_6456\\2121196835.py:7: RuntimeWarning: The iteration is not making good progress, as measured by the \n",
      "  improvement from the last ten iterations.\n",
      "  root = fsolve(g, 1)  # начальное значение x=1\n"
     ]
    }
   ],
   "source": [
    "import numpy as np\n",
    "from scipy.optimize import fsolve\n",
    "\n",
    "def g(x):\n",
    "    return x**4 - 6*x**3 + 4*x**2 + 10*x + 75\n",
    "\n",
    "root = fsolve(g, 1)  # начальное значение x=1\n",
    "print(\"Корень уравнения:\", root)"
   ]
  },
  {
   "cell_type": "markdown",
   "id": "9528e00f-b75e-45e7-b549-5d86541ec8df",
   "metadata": {},
   "source": [
    "## Задание 10"
   ]
  },
  {
   "cell_type": "code",
   "execution_count": 42,
   "id": "e0b1738b-7650-45e3-b9e7-46faccc71ac3",
   "metadata": {},
   "outputs": [
    {
     "name": "stdout",
     "output_type": "stream",
     "text": [
      "Корень системы уравнений: [2.54404027 0.42769733]\n"
     ]
    }
   ],
   "source": [
    "import numpy as np\n",
    "from scipy.optimize import root\n",
    "\n",
    "def func(xy):\n",
    "    x, y = xy\n",
    "    if np.abs(y) < 1e-6:  # Избегаем деление на 0\n",
    "        return [np.inf, np.inf]\n",
    "    return [x**2 - y**3 + (x/np.sin(y) + 2) + 2**x - 15,\n",
    "            x*np.cos(y)**2 + np.exp(x-y) - y**2 - 17]\n",
    "\n",
    "x0 = [1, 1]\n",
    "result = root(func, x0, method='lm')\n",
    "print(\"Корень системы уравнений:\", result.x)"
   ]
  },
  {
   "cell_type": "code",
   "execution_count": null,
   "id": "6f003dbd-3076-4953-9c90-5a79917eb9d1",
   "metadata": {},
   "outputs": [],
   "source": []
  }
 ],
 "metadata": {
  "kernelspec": {
   "display_name": "Python 3 (ipykernel)",
   "language": "python",
   "name": "python3"
  },
  "language_info": {
   "codemirror_mode": {
    "name": "ipython",
    "version": 3
   },
   "file_extension": ".py",
   "mimetype": "text/x-python",
   "name": "python",
   "nbconvert_exporter": "python",
   "pygments_lexer": "ipython3",
   "version": "3.9.6"
  }
 },
 "nbformat": 4,
 "nbformat_minor": 5
}
