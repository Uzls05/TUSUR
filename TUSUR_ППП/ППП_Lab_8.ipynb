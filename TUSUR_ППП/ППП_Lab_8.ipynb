{
 "cells": [
  {
   "cell_type": "markdown",
   "id": "62d5027d-a6bf-40fb-a802-094d871ba544",
   "metadata": {},
   "source": [
    "# Лабораторная работа 8"
   ]
  },
  {
   "cell_type": "markdown",
   "id": "21791c73-11a5-441e-a1f3-f35f11df5dde",
   "metadata": {},
   "source": [
    "## Задание 1"
   ]
  },
  {
   "cell_type": "code",
   "execution_count": 2,
   "id": "92771088-3d17-449a-b62e-4aa303b3f0b6",
   "metadata": {},
   "outputs": [],
   "source": [
    "import tkinter as tk\n",
    "\n",
    "# Создаем окно\n",
    "root = tk.Tk()\n",
    "\n",
    "# Устанавливаем заголовок окна\n",
    "root.title(\"Title\")\n",
    "\n",
    "# Создаем метку с текстом\n",
    "label = tk.Label(root, text=\"Python рулит!\")\n",
    "\n",
    "# Размещаем метку в окне\n",
    "label.pack()\n",
    "\n",
    "# Запускаем главный цикл окна\n",
    "root.mainloop()"
   ]
  },
  {
   "cell_type": "markdown",
   "id": "f50cf753-14eb-4832-ab7e-d789cb5f1b28",
   "metadata": {},
   "source": [
    "## Задание 2"
   ]
  },
  {
   "cell_type": "code",
   "execution_count": 4,
   "id": "4710b8af-dc73-463a-900e-4ee2fee5c35c",
   "metadata": {},
   "outputs": [],
   "source": [
    "import tkinter as tk\n",
    "\n",
    "# Создаем окно\n",
    "root = tk.Tk()\n",
    "\n",
    "# Создаем текстовое поле Entry\n",
    "entry = tk.Entry(root, width=40, bg=\"white\", fg=\"black\")\n",
    "\n",
    "# Вставляем текст в текстовое поле\n",
    "entry.insert(0, \"What is your name?\")\n",
    "\n",
    "# Размещаем текстовое поле в окне\n",
    "entry.pack()\n",
    "\n",
    "# Запускаем главный цикл окна\n",
    "root.mainloop()"
   ]
  },
  {
   "cell_type": "markdown",
   "id": "c1ec334c-bd2c-4ebb-bb72-7f1f7d882a18",
   "metadata": {},
   "source": [
    "## Задание 3\n"
   ]
  },
  {
   "cell_type": "code",
   "execution_count": 10,
   "id": "31944afd-1094-4a1b-8d92-c455b6ba265a",
   "metadata": {},
   "outputs": [],
   "source": [
    "import tkinter as tk\n",
    "from tkinter import messagebox\n",
    "\n",
    "def save_data():\n",
    "    name = name_entry.get()\n",
    "    surname = surname_entry.get()\n",
    "    street = street_entry.get()\n",
    "    house = house_entry.get()\n",
    "    apartment = apartment_entry.get()\n",
    "    city = city_entry.get()\n",
    "    country = country_entry.get()\n",
    "    phone = phone_entry.get()\n",
    "    email = email_entry.get()\n",
    "\n",
    "    with open(\"data.txt\", \"a\") as f:\n",
    "        f.write(f\"Имя: {name}\\nФамилия: {surname}\\nУлица: {street}\\nДом: {house}\\nКвартира: {apartment}\\nГород: {city}\\nСтрана: {country}\\nТелефон: {phone}\\nEmail: {email}\\n\\n\")\n",
    "\n",
    "    name_entry.delete(0, tk.END)\n",
    "    surname_entry.delete(0, tk.END)\n",
    "    street_entry.delete(0, tk.END)\n",
    "    house_entry.delete(0, tk.END)\n",
    "    apartment_entry.delete(0, tk.END)\n",
    "    city_entry.delete(0, tk.END)\n",
    "    country_entry.delete(0, tk.END)\n",
    "    phone_entry.delete(0, tk.END)\n",
    "    email_entry.delete(0, tk.END)\n",
    "\n",
    "    messagebox.showinfo(\"Успешно\", \"Данные сохранены!\")\n",
    "\n",
    "root = tk.Tk()\n",
    "root.title(\"Анкета с контактными данными клиента\")\n",
    "\n",
    "main_frame = tk.Frame(root)\n",
    "main_frame.pack(padx=25, pady=25)\n",
    "\n",
    "tk.Label(main_frame, text=\"Имя:\").grid(row=0, column=0, padx=5, pady=5)\n",
    "name_entry = tk.Entry(main_frame, width=30)\n",
    "name_entry.grid(row=0, column=1, padx=5, pady=5)\n",
    "\n",
    "tk.Label(main_frame, text=\"Фамилия:\").grid(row=1, column=0, padx=5, pady=5)\n",
    "surname_entry = tk.Entry(main_frame, width=30)\n",
    "surname_entry.grid(row=1, column=1, padx=5, pady=5)\n",
    "\n",
    "tk.Label(main_frame, text=\"Улица:\").grid(row=2, column=0, padx=5, pady=5)\n",
    "street_entry = tk.Entry(main_frame, width=30)\n",
    "street_entry.grid(row=2, column=1, padx=5, pady=5)\n",
    "\n",
    "tk.Label(main_frame, text=\"Дом:\").grid(row=3, column=0, padx=5, pady=5)\n",
    "house_entry = tk.Entry(main_frame, width=30)\n",
    "house_entry.grid(row=3, column=1, padx=5, pady=5)\n",
    "\n",
    "tk.Label(main_frame, text=\"Квартира:\").grid(row=4, column=0, padx=5, pady=5)\n",
    "apartment_entry = tk.Entry(main_frame, width=30)\n",
    "apartment_entry.grid(row=4, column=1, padx=5, pady=5)\n",
    "\n",
    "tk.Label(main_frame, text=\"Город:\").grid(row=5, column=0, padx=5, pady=5)\n",
    "city_entry = tk.Entry(main_frame, width=30)\n",
    "city_entry.grid(row=5, column=1, padx=5, pady=5)\n",
    "\n",
    "tk.Label(main_frame, text=\"Страна:\").grid(row=6, column=0, padx=5, pady=5)\n",
    "country_entry = tk.Entry(main_frame, width=30)\n",
    "country_entry.grid(row=6, column=1, padx=5, pady=5)\n",
    "\n",
    "tk.Label(main_frame, text=\"Телефон:\").grid(row=7, column=0, padx=5, pady=5)\n",
    "phone_entry = tk.Entry(main_frame, width=30)\n",
    "phone_entry.grid(row=7, column=1, padx=5, pady=5)\n",
    "\n",
    "tk.Label(main_frame, text=\"Email:\").grid(row=8, column=0, padx=5, pady=5)\n",
    "email_entry = tk.Entry(main_frame, width=30)\n",
    "email_entry.grid(row=8, column=1, padx=5, pady=5)\n",
    "\n",
    "tk.Button(main_frame, text=\"Отправить\", command=save_data).grid(row=9, column=0, columnspan=2, padx=5, pady=5)\n",
    "\n",
    "root.mainloop()"
   ]
  },
  {
   "cell_type": "markdown",
   "id": "3fbdc367-e6b4-4add-83c7-af7f482d658f",
   "metadata": {},
   "source": [
    "# Задание 4"
   ]
  },
  {
   "cell_type": "code",
   "execution_count": 6,
   "id": "fd68e8a9-43e5-4fc8-a668-0f31d46c6482",
   "metadata": {},
   "outputs": [],
   "source": [
    "import tkinter as tk\n",
    "import random\n",
    "\n",
    "def roll_dice():\n",
    "    result = random.randint(1, 6)\n",
    "    result_label.config(text=f\"Результат: {result}\")\n",
    "\n",
    "root = tk.Tk()\n",
    "root.title(\"Симулятор броска игральной кости\")\n",
    "\n",
    "main_frame = tk.Frame(root)\n",
    "main_frame.pack(padx=10, pady=10)\n",
    "\n",
    "roll_button = tk.Button(main_frame, text=\"Бросить\", command=roll_dice)\n",
    "roll_button.pack(pady=10)\n",
    "\n",
    "result_label = tk.Label(main_frame, text=\"Результат: \")\n",
    "result_label.pack(pady=10)\n",
    "\n",
    "root.mainloop()"
   ]
  },
  {
   "cell_type": "markdown",
   "id": "1022faf0-55b4-4086-88fd-942a95f43210",
   "metadata": {},
   "source": [
    "# Задание 5"
   ]
  },
  {
   "cell_type": "code",
   "execution_count": 13,
   "id": "5da849c8-4940-43b7-9896-3481771b116b",
   "metadata": {},
   "outputs": [
    {
     "data": {
      "image/png": "[encoded data removed]",
      "text/plain": [
       "<Figure size 640x480 with 1 Axes>"
      ]
     },
     "metadata": {},
     "output_type": "display_data"
    },
    {
     "data": {
      "image/png": "[encoded data removed]",
      "text/plain": [
       "<Figure size 640x480 with 1 Axes>"
      ]
     },
     "metadata": {},
     "output_type": "display_data"
    },
    {
     "data": {
      "image/png": "[encoded data removed]",
      "text/plain": [
       "<Figure size 640x480 with 1 Axes>"
      ]
     },
     "metadata": {},
     "output_type": "display_data"
    },
    {
     "name": "stderr",
     "output_type": "stream",
     "text": [
      "Exception in Tkinter callback\n",
      "Traceback (most recent call last):\n",
      "  File \"C:\\Users\\s-pod\\AppData\\Local\\Programs\\Python\\Python39\\lib\\tkinter\\__init__.py\", line 1892, in __call__\n",
      "    return self.func(*args)\n",
      "  File \"C:\\Users\\s-pod\\AppData\\Local\\Temp\\ipykernel_4624\\4099691947.py\", line 108, in save_file\n",
      "    for x, y in zip(x_new, y_new):\n",
      "NameError: name 'x_new' is not defined\n",
      "Exception in Tkinter callback\n",
      "Traceback (most recent call last):\n",
      "  File \"C:\\Users\\s-pod\\AppData\\Local\\Programs\\Python\\Python39\\lib\\tkinter\\__init__.py\", line 1892, in __call__\n",
      "    return self.func(*args)\n",
      "  File \"C:\\Users\\s-pod\\AppData\\Local\\Temp\\ipykernel_4624\\4099691947.py\", line 108, in save_file\n",
      "    for x, y in zip(x_new, y_new):\n",
      "NameError: name 'x_new' is not defined\n"
     ]
    }
   ],
   "source": [
    "import tkinter as tk\n",
    "from tkinter import filedialog, messagebox\n",
    "import matplotlib.pyplot as plt\n",
    "import numpy as np\n",
    "\n",
    "class Application(tk.Tk):\n",
    "    def __init__(self):\n",
    "        super().__init__()\n",
    "        self.title(\"Аппроксимация полиномом 2-й степени\")\n",
    "        self.geometry(\"400x400\")\n",
    "\n",
    "        self.file_path = \"\"\n",
    "\n",
    "        self.create_widgets()\n",
    "\n",
    "    def create_widgets(self):\n",
    "        # Кнопка для открытия файла\n",
    "        self.open_button = tk.Button(self, text=\"Открыть файл\", command=self.open_file)\n",
    "        self.open_button.pack(pady=10)\n",
    "\n",
    "        # Метки для отображения содержимого файла\n",
    "        self.x_label = tk.Label(self, text=\"x:\")\n",
    "        self.x_label.pack()\n",
    "        self.x_text = tk.Text(self, width=20, height=5)\n",
    "        self.x_text.pack()\n",
    "\n",
    "        self.y_label = tk.Label(self, text=\"y:\")\n",
    "        self.y_label.pack()\n",
    "        self.y_text = tk.Text(self, width=20, height=5)\n",
    "        self.y_text.pack()\n",
    "\n",
    "        # Поле для ввода начального значения\n",
    "        self.start_label = tk.Label(self, text=\"Начальное значение:\")\n",
    "        self.start_label.pack()\n",
    "        self.start_entry = tk.Entry(self, width=20)\n",
    "        self.start_entry.pack()\n",
    "\n",
    "        # Поле для ввода шага\n",
    "        self.step_label = tk.Label(self, text=\"Шаг:\")\n",
    "        self.step_label.pack()\n",
    "        self.step_entry = tk.Entry(self, width=20)\n",
    "        self.step_entry.pack()\n",
    "\n",
    "        # Поле для ввода конечного значения\n",
    "        self.end_label = tk.Label(self, text=\"Конечное значение:\")\n",
    "        self.end_label.pack()\n",
    "        self.end_entry = tk.Entry(self, width=20)\n",
    "        self.end_entry.pack()\n",
    "\n",
    "        # Кнопка для построения графика\n",
    "        self.plot_button = tk.Button(self, text=\"Построить график\", command=self.plot_graph)\n",
    "        self.plot_button.pack(pady=10)\n",
    "\n",
    "        # Кнопка для записи в файл\n",
    "        self.save_button = tk.Button(self, text=\"Записать в файл\", command=self.save_file)\n",
    "        self.save_button.pack(pady=10)\n",
    "\n",
    "        # Список для выбора типа линии\n",
    "        self.line_type_label = tk.Label(self, text=\"Тип линии:\")\n",
    "        self.line_type_label.pack()\n",
    "        self.line_type_var = tk.StringVar()\n",
    "        self.line_type_var.set(\"solid\")\n",
    "        self.line_type_menu = tk.OptionMenu(self, self.line_type_var, \"solid\", \"dashed\", \"dotted\")\n",
    "        self.line_type_menu.pack()\n",
    "\n",
    "        # Список для выбора цвета линии\n",
    "        self.line_color_label = tk.Label(self, text=\"Цвет линии:\")\n",
    "        self.line_color_label.pack()\n",
    "        self.line_color_var = tk.StringVar()\n",
    "        self.line_color_var.set(\"blue\")\n",
    "        self.line_color_menu = tk.OptionMenu(self, self.line_color_var, \"blue\", \"red\", \"green\")\n",
    "        self.line_color_menu.pack()\n",
    "\n",
    "    def open_file(self):\n",
    "        self.file_path = filedialog.askopenfilename()\n",
    "        if self.file_path:\n",
    "            with open(self.file_path, \"r\") as f:\n",
    "                x, y = [], []\n",
    "                for line in f:\n",
    "                    x.append(float(line.split()[0]))\n",
    "                    y.append(float(line.split()[1]))\n",
    "                self.x_text.delete(1.0, tk.END)\n",
    "                self.x_text.insert(tk.END, \"\\n\".join(map(str, x)))\n",
    "                self.y_text.delete(1.0, tk.END)\n",
    "                self.y_text.insert(tk.END, \"\\n\".join(map(str, y)))\n",
    "\n",
    "    def plot_graph(self):\n",
    "        x, y = [], []\n",
    "        for line in self.x_text.get(1.0, tk.END).splitlines():\n",
    "            x.append(float(line))\n",
    "        for line in self.y_text.get(1.0, tk.END).splitlines():\n",
    "            y.append(float(line))\n",
    "\n",
    "        start = float(self.start_entry.get())\n",
    "        step = float(self.step_entry.get())\n",
    "        end = float(self.end_entry.get())\n",
    "\n",
    "        x_new = np.arange(start, end, step)\n",
    "        y_new = np.polyval(np.polyfit(x, y, 2), x_new)\n",
    "\n",
    "        plt.plot(x_new, y_new, linestyle=self.line_type_var.get(), color=self.line_color_var.get())\n",
    "        plt.show()\n",
    "\n",
    "    def save_file(self):\n",
    "        file_path = filedialog.asksaveasfilename()\n",
    "        if file_path:\n",
    "            with open(file_path, \"w\") as f:\n",
    "                for x, y in zip(x_new, y_new):\n",
    "                    f.write(f\"{x} {y}\\n\")\n",
    "            messagebox.showinfo(\"Успешно\", \"Данные сохранены!\")\n",
    "\n",
    "if __name__ == \"__main__\":\n",
    "    app = Application()\n",
    "    app.mainloop()"
   ]
  },
  {
   "cell_type": "code",
   "execution_count": null,
   "id": "10ede5d9-2b2c-4dfd-92ea-b1893debafa6",
   "metadata": {},
   "outputs": [],
   "source": []
  }
 ],
 "metadata": {
  "kernelspec": {
   "display_name": "Python 3 (ipykernel)",
   "language": "python",
   "name": "python3"
  },
  "language_info": {
   "codemirror_mode": {
    "name": "ipython",
    "version": 3
   },
   "file_extension": ".py",
   "mimetype": "text/x-python",
   "name": "python",
   "nbconvert_exporter": "python",
   "pygments_lexer": "ipython3",
   "version": "3.9.6"
  }
 },
 "nbformat": 4,
 "nbformat_minor": 5
}
